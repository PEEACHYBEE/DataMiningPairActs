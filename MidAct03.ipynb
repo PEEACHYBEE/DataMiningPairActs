{
 "cells": [
  {
   "cell_type": "markdown",
   "id": "e5b5843e",
   "metadata": {},
   "source": [
    "## 1. Data Exploration and Preprocessing"
   ]
  },
  {
   "cell_type": "markdown",
   "id": "48acf62e",
   "metadata": {},
   "source": [
    "### Data Exploration"
   ]
  },
  {
   "cell_type": "code",
   "execution_count": 6,
   "id": "0a921b08",
   "metadata": {},
   "outputs": [
    {
     "name": "stdout",
     "output_type": "stream",
     "text": [
      "First 5 rows of the dataset:\n",
      "   gender  age  educationLevel  currentSmoker  cigsPerDay  BPMeds  \\\n",
      "0       1   39             4.0              0         0.0     0.0   \n",
      "1       0   46             2.0              0         0.0     0.0   \n",
      "2       1   48             1.0              1        20.0     0.0   \n",
      "3       0   61             3.0              1        30.0     0.0   \n",
      "4       0   46             3.0              1        23.0     0.0   \n",
      "\n",
      "   prevalentStroke  prevalentHyp  diabetes  totChol  sysBP  diaBP    BMI  \\\n",
      "0                0             0         0    195.0  106.0   70.0  26.97   \n",
      "1                0             0         0    250.0  121.0   81.0  28.73   \n",
      "2                0             0         0    245.0  127.5   80.0  25.34   \n",
      "3                0             1         0    225.0  150.0   95.0  28.58   \n",
      "4                0             0         0    285.0  130.0   84.0  23.10   \n",
      "\n",
      "   heartRate  glucose  tenYearCHD  \n",
      "0       80.0     77.0           0  \n",
      "1       95.0     76.0           0  \n",
      "2       75.0     70.0           0  \n",
      "3       65.0    103.0           1  \n",
      "4       85.0     85.0           0  \n",
      "\n",
      "Dataset shape (rows, columns): (4238, 16)\n",
      "\n",
      "Missing values per column:\n",
      "gender               0\n",
      "age                  0\n",
      "educationLevel     105\n",
      "currentSmoker        0\n",
      "cigsPerDay          29\n",
      "BPMeds              53\n",
      "prevalentStroke      0\n",
      "prevalentHyp         0\n",
      "diabetes             0\n",
      "totChol             50\n",
      "sysBP                0\n",
      "diaBP                0\n",
      "BMI                 19\n",
      "heartRate            1\n",
      "glucose            388\n",
      "tenYearCHD           0\n",
      "dtype: int64\n",
      "\n",
      "Number of duplicate rows: 0\n",
      "tenYearCHD\n",
      "0    3594\n",
      "1     644\n",
      "Name: count, dtype: int64\n"
     ]
    }
   ],
   "source": [
    "import pandas as pd\n",
    "\n",
    "#Load the dataset\n",
    "df = pd.read_csv('heart_disease_prediction.csv')\n",
    "\n",
    "#Display the first few rows\n",
    "print(\"First 5 rows of the dataset:\")\n",
    "print(df.head())\n",
    "\n",
    "#Check the shape of the dataset\n",
    "print(\"\\nDataset shape (rows, columns):\", df.shape)\n",
    "\n",
    "#Check for missing values\n",
    "print(\"\\nMissing values per column:\")\n",
    "print(df.isnull().sum())\n",
    "\n",
    "#Check for duplicates\n",
    "print(\"\\nNumber of duplicate rows:\", df.duplicated().sum())\n",
    "print(df.iloc[:, -1].value_counts())\n"
   ]
  },
  {
   "cell_type": "markdown",
   "id": "a847e65d",
   "metadata": {},
   "source": [
    "### Data Preprocessing"
   ]
  },
  {
   "cell_type": "code",
   "execution_count": null,
   "id": "77e84d65baaa19b3",
   "metadata": {
    "ExecuteTime": {
     "end_time": "2025-06-20T13:49:08.126695Z",
     "start_time": "2025-06-20T13:49:07.988753Z"
    }
   },
   "outputs": [
    {
     "name": "stdout",
     "output_type": "stream",
     "text": [
      "Preprocessing complete. Data saved to 'processed_heart_data.csv'\n"
     ]
    },
    {
     "data": {
      "image/png": "[encoded data removed]",
      "text/plain": [
       "<Figure size 800x600 with 1 Axes>"
      ]
     },
     "metadata": {},
     "output_type": "display_data"
    }
   ],
   "source": [
    "import pandas as pd\n",
    "import numpy as np\n",
    "import matplotlib.pyplot as plt\n",
    "import seaborn as sns\n",
    "\n",
    "# Load dataset\n",
    "df = pd.read_csv('heart_disease_prediction.csv')\n",
    "\n",
    "# Handle missing values\n",
    "continuous_vars = ['cigsPerDay', 'totChol', 'BMI', 'heartRate', 'glucose']\n",
    "categorical_vars = ['BPMeds', 'educationLevel']\n",
    "\n",
    "for col in continuous_vars:\n",
    "    df[col] = df[col].fillna(df[col].median())\n",
    "\n",
    "for col in categorical_vars:\n",
    "    df[col] = df[col].fillna(df[col].mode()[0])\n",
    "\n",
    "# Handle outliers\n",
    "def handle_outliers(series):\n",
    "    Q1 = series.quantile(0.25)\n",
    "    Q3 = series.quantile(0.75)\n",
    "    IQR = Q3 - Q1\n",
    "    lower_bound = Q1 - 1.5 * IQR\n",
    "    upper_bound = Q3 + 1.5 * IQR\n",
    "    return np.clip(series, lower_bound, upper_bound)\n",
    "\n",
    "outlier_cols = ['cigsPerDay', 'totChol', 'sysBP', 'diaBP', 'BMI', 'heartRate', 'glucose']\n",
    "for col in outlier_cols:\n",
    "    df[col] = handle_outliers(df[col])\n",
    "\n",
    "df.to_csv('processed_heart_data.csv', index=False)\n",
    "\n",
    "# Plots\n",
    "plt.figure(figsize=(8, 6))\n",
    "sns.countplot(x='tenYearCHD', data=df, color='mediumpurple')\n",
    "plt.title('Target Distribution After Preprocessing')\n",
    "plt.show()"
   ]
  },
  {
   "cell_type": "markdown",
   "id": "6847be16",
   "metadata": {},
   "source": [
    "## 2. Dataset Splitting and Model Training"
   ]
  },
  {
   "cell_type": "code",
   "execution_count": null,
   "id": "dd561d3c0836c46a",
   "metadata": {
    "ExecuteTime": {
     "end_time": "2025-06-20T13:49:57.781042Z",
     "start_time": "2025-06-20T13:49:57.443335Z"
    }
   },
   "outputs": [
    {
     "name": "stdout",
     "output_type": "stream",
     "text": [
      "Selected features: ['age', 'sysBP', 'prevalentHyp', 'diaBP', 'diabetes', 'gender', 'BPMeds', 'totChol', 'BMI', 'glucose', 'prevalentStroke', 'cigsPerDay', 'educationLevel']\n",
      "\n",
      "Model trained and artifacts saved\n",
      "\n",
      "Model Coefficients and Odds Ratios:\n",
      "            Feature  Coefficient  Odds_Ratio\n",
      "0               age     0.589580    1.803230\n",
      "11       cigsPerDay     0.320697    1.378088\n",
      "1             sysBP     0.243918    1.276239\n",
      "5            gender     0.167686    1.182565\n",
      "7           totChol     0.114083    1.120845\n",
      "4          diabetes     0.113052    1.119690\n",
      "10  prevalentStroke     0.085210    1.088945\n",
      "2      prevalentHyp     0.085175    1.088907\n",
      "6            BPMeds     0.078855    1.082048\n",
      "3             diaBP     0.050195    1.051476\n",
      "8               BMI     0.017540    1.017695\n",
      "9           glucose     0.016006    1.016134\n",
      "12   educationLevel    -0.027151    0.973214\n"
     ]
    }
   ],
   "source": [
    "# FEATURE SELECTION AND MODEL TRAINING\n",
    "import pandas as pd\n",
    "import numpy as np\n",
    "from sklearn.feature_selection import f_classif\n",
    "from sklearn.model_selection import train_test_split\n",
    "from sklearn.linear_model import LogisticRegression\n",
    "from sklearn.preprocessing import StandardScaler\n",
    "import joblib\n",
    "\n",
    "# Load processed data\n",
    "df = pd.read_csv('processed_heart_data.csv')\n",
    "\n",
    "# Feature selection using ANOVA F-test (alternative to p-values)\n",
    "X = df.drop('tenYearCHD', axis=1)\n",
    "y = df['tenYearCHD']\n",
    "\n",
    "# Calculate F-scores and p-values\n",
    "f_scores, p_values = f_classif(X, y)\n",
    "\n",
    "# Create feature importance DataFrame\n",
    "feature_importance = pd.DataFrame({\n",
    "    'Feature': X.columns,\n",
    "    'F_Score': f_scores,\n",
    "    'P_Value': p_values\n",
    "}).sort_values('P_Value')\n",
    "\n",
    "# Select features with p-value < 0.05\n",
    "significant_features = feature_importance[feature_importance['P_Value'] < 0.05]['Feature'].tolist()\n",
    "print(f\"Selected features: {significant_features}\")\n",
    "\n",
    "# Data splitting\n",
    "# Split into 90% development and 10% unseen\n",
    "dev_df, unseen_df = train_test_split(\n",
    "    df,\n",
    "    test_size=0.1,\n",
    "    random_state=42,\n",
    "    stratify=df['tenYearCHD']\n",
    ")\n",
    "\n",
    "# Split development data into train and test (80-20)\n",
    "X_dev = dev_df[significant_features]\n",
    "y_dev = dev_df['tenYearCHD']\n",
    "X_train, X_test, y_train, y_test = train_test_split(\n",
    "    X_dev, y_dev, test_size=0.2, random_state=42, stratify=y_dev\n",
    ")\n",
    "\n",
    "# Feature scaling\n",
    "scaler = StandardScaler()\n",
    "X_train_scaled = scaler.fit_transform(X_train)\n",
    "X_test_scaled = scaler.transform(X_test)\n",
    "\n",
    "# Train logistic regression model\n",
    "model = LogisticRegression(\n",
    "    max_iter=1000,\n",
    "    random_state=42,\n",
    "    class_weight='balanced'\n",
    ")\n",
    "model.fit(X_train_scaled, y_train)\n",
    "\n",
    "# Save artifacts\n",
    "joblib.dump(model, 'logistic_regression_model.pkl')\n",
    "joblib.dump(scaler, 'feature_scaler.pkl')\n",
    "unseen_df.to_csv('unseen_data.csv', index=False)\n",
    "print(\"\\nModel trained and artifacts saved\")\n",
    "\n",
    "# Display coefficients\n",
    "coeff_df = pd.DataFrame({\n",
    "    'Feature': significant_features,\n",
    "    'Coefficient': model.coef_[0],\n",
    "    'Odds_Ratio': np.exp(model.coef_[0])\n",
    "}).sort_values('Odds_Ratio', ascending=False)\n",
    "\n",
    "print(\"\\nModel Coefficients and Odds Ratios:\")\n",
    "print(coeff_df)"
   ]
  },
  {
   "cell_type": "markdown",
   "id": "a93dac8f",
   "metadata": {},
   "source": [
    "## 3. Model Evaluation"
   ]
  },
  {
   "cell_type": "code",
   "execution_count": null,
   "id": "24e090d52e47a4e5",
   "metadata": {
    "ExecuteTime": {
     "end_time": "2025-06-20T14:10:54.610944Z",
     "start_time": "2025-06-20T14:10:54.489842Z"
    }
   },
   "outputs": [
    {
     "name": "stdout",
     "output_type": "stream",
     "text": [
      "Classification Report:\n",
      "              precision    recall  f1-score   support\n",
      "\n",
      "           0       0.93      0.67      0.78      3248\n",
      "           1       0.27      0.69      0.38       566\n",
      "\n",
      "    accuracy                           0.67      3814\n",
      "   macro avg       0.60      0.68      0.58      3814\n",
      "weighted avg       0.83      0.67      0.72      3814\n",
      "\n",
      "Accuracy: 0.6704\n",
      "Precision: 0.2658\n",
      "Recall: 0.6926\n",
      "F1 Score: 0.3841\n",
      "\n",
      "PERFORMANCE INTERPRETATION:\n",
      "- Model detects 69.3% of actual CHD cases (Recall)\n",
      "- 26.6% of CHD predictions are correct (Precision)\n",
      "- Overall balanced performance: 38.4% (F1 Score)\n"
     ]
    }
   ],
   "source": [
    "# MODEL EVALUATION\n",
    "import pandas as pd\n",
    "import joblib\n",
    "from sklearn.metrics import (confusion_matrix, classification_report,\n",
    "                           accuracy_score, precision_score, recall_score, f1_score)\n",
    "import matplotlib.pyplot as plt\n",
    "import seaborn as sns\n",
    "\n",
    "SELECTED_FEATURES = [\n",
    "    'age', 'sysBP', 'prevalentHyp', 'diaBP', 'diabetes', 'gender',\n",
    "    'BPMeds', 'totChol', 'BMI', 'glucose', 'prevalentStroke',\n",
    "    'cigsPerDay', 'educationLevel'\n",
    "]\n",
    "\n",
    "# Load artifacts\n",
    "model = joblib.load('logistic_regression_model.pkl')\n",
    "scaler = joblib.load('feature_scaler.pkl')\n",
    "\n",
    "# Load and prepare test data\n",
    "test_df = pd.read_csv('processed_heart_data.csv')\n",
    "unseen_indices = pd.read_csv('unseen_data.csv').index\n",
    "X_test = test_df[~test_df.index.isin(unseen_indices)].copy()\n",
    "y_test = X_test['tenYearCHD']\n",
    "\n",
    "# Select features using predefined list\n",
    "X_test = X_test[SELECTED_FEATURES]\n",
    "\n",
    "# Scale features\n",
    "X_test_scaled = scaler.transform(X_test)\n",
    "\n",
    "# Make predictions\n",
    "y_pred = model.predict(X_test_scaled)\n",
    "\n",
    "# 1. Confusion matrix\n",
    "cm = confusion_matrix(y_test, y_pred)\n",
    "plt.figure(figsize=(8, 6))\n",
    "sns.heatmap(cm, annot=True, fmt='d', cmap='Blues',\n",
    "            xticklabels=['No CHD', 'CHD'],\n",
    "            yticklabels=['No CHD', 'CHD'])\n",
    "plt.xlabel('Predicted')\n",
    "plt.ylabel('Actual')\n",
    "plt.title('Confusion Matrix - Test Data')\n",
    "plt.savefig('confusion_matrix.png')\n",
    "plt.close()\n",
    "\n",
    "# 2. Classification report\n",
    "print(\"Classification Report:\")\n",
    "print(classification_report(y_test, y_pred))\n",
    "\n",
    "# 3. Key metrics\n",
    "accuracy = accuracy_score(y_test, y_pred)\n",
    "precision = precision_score(y_test, y_pred)\n",
    "recall = recall_score(y_test, y_pred)\n",
    "f1 = f1_score(y_test, y_pred)\n",
    "\n",
    "print(f\"Accuracy: {accuracy:.4f}\")\n",
    "print(f\"Precision: {precision:.4f}\")\n",
    "print(f\"Recall: {recall:.4f}\")\n",
    "print(f\"F1 Score: {f1:.4f}\")\n",
    "\n",
    "# Interpretation\n",
    "print(\"\\nPERFORMANCE INTERPRETATION:\")\n",
    "print(f\"- Model detects {recall*100:.1f}% of actual CHD cases (Recall)\")\n",
    "print(f\"- {precision*100:.1f}% of CHD predictions are correct (Precision)\")\n",
    "print(f\"- Overall balanced performance: {f1*100:.1f}% (F1 Score)\")"
   ]
  },
  {
   "cell_type": "markdown",
   "id": "53a47a4a",
   "metadata": {},
   "source": [
    "## 4. Prediction on Unseen Data"
   ]
  },
  {
   "cell_type": "code",
   "execution_count": null,
   "id": "46109710bbf4f69c",
   "metadata": {
    "ExecuteTime": {
     "end_time": "2025-06-20T14:17:08.697761Z",
     "start_time": "2025-06-20T14:17:08.680364Z"
    }
   },
   "outputs": [
    {
     "name": "stdout",
     "output_type": "stream",
     "text": [
      "Unseen Data Predictions:\n",
      "Number of cases: 424\n",
      "Actual CHD cases: 64 (1 = Yes)\n",
      "Predicted CHD cases: 164 (1 = Yes)\n",
      "Accuracy: 63.2%\n",
      "\n",
      "Sample predictions (0 = No, 1 = Yes):\n",
      "   age  sysBP  glucose  tenYearCHD Actual_CHD_Label  Predicted_CHD  \\\n",
      "0   45  117.5     67.0           1              Yes              0   \n",
      "1   41  123.0     78.0           0               No              0   \n",
      "2   49  174.0     78.0           0               No              1   \n",
      "3   51  122.0     78.0           0               No              1   \n",
      "4   49  108.0    102.0           0               No              0   \n",
      "5   40  142.0     77.0           0               No              0   \n",
      "6   38  117.5     78.0           0               No              0   \n",
      "7   58  132.0     70.0           1              Yes              0   \n",
      "8   44  116.0     87.0           0               No              0   \n",
      "9   41  107.0     87.0           0               No              0   \n",
      "\n",
      "  Predicted_CHD_Label  CHD_Probability  \n",
      "0                  No         0.368448  \n",
      "1                  No         0.175111  \n",
      "2                 Yes         0.813163  \n",
      "3                 Yes         0.580511  \n",
      "4                  No         0.331024  \n",
      "5                  No         0.201231  \n",
      "6                  No         0.148192  \n",
      "7                  No         0.404558  \n",
      "8                  No         0.217944  \n",
      "9                  No         0.166492  \n",
      "\n",
      "Final predictions saved to 'final_predictions.csv'\n"
     ]
    }
   ],
   "source": [
    "# PREDICTION ON UNSEEN DATA\n",
    "import pandas as pd\n",
    "import joblib\n",
    "\n",
    "# Define selected features\n",
    "SELECTED_FEATURES = [\n",
    "    'age', 'sysBP', 'prevalentHyp', 'diaBP', 'diabetes', 'gender',\n",
    "    'BPMeds', 'totChol', 'BMI', 'glucose', 'prevalentStroke',\n",
    "    'cigsPerDay', 'educationLevel'\n",
    "]\n",
    "\n",
    "# Load artifacts\n",
    "model = joblib.load('logistic_regression_model.pkl')\n",
    "scaler = joblib.load('feature_scaler.pkl')\n",
    "unseen_df = pd.read_csv('unseen_data.csv')\n",
    "\n",
    "# Prepare unseen data\n",
    "X_unseen = unseen_df[SELECTED_FEATURES]\n",
    "y_unseen = unseen_df['tenYearCHD']\n",
    "X_unseen_scaled = scaler.transform(X_unseen)\n",
    "\n",
    "# Make predictions\n",
    "y_unseen_pred = model.predict(X_unseen_scaled)\n",
    "y_unseen_prob = model.predict_proba(X_unseen_scaled)[:, 1]  # Probability of CHD\n",
    "\n",
    "# Create results dataframe\n",
    "results_df = unseen_df.copy()\n",
    "results_df['Predicted_CHD'] = y_unseen_pred\n",
    "results_df['CHD_Probability'] = y_unseen_prob\n",
    "results_df['Prediction_Correct'] = results_df['tenYearCHD'] == results_df['Predicted_CHD']\n",
    "\n",
    "# Save results\n",
    "results_df.to_csv('final_predictions.csv', index=False)\n",
    "\n",
    "# Print results\n",
    "print(\"Unseen Data Predictions:\")\n",
    "print(f\"Number of cases: {len(unseen_df)}\")\n",
    "print(f\"Actual CHD cases: {y_unseen.sum()} (1 = Yes)\")\n",
    "print(f\"Predicted CHD cases: {y_unseen_pred.sum()} (1 = Yes)\")\n",
    "print(f\"Accuracy: {(results_df['Prediction_Correct'].mean()*100):.1f}%\")\n",
    "\n",
    "# Create display-friendly version for sample output\n",
    "display_df = results_df[['age', 'sysBP', 'glucose', 'tenYearCHD', 'Predicted_CHD', 'CHD_Probability']].copy()\n",
    "display_df['Actual_CHD_Label'] = results_df['tenYearCHD'].map({0: 'No', 1: 'Yes'})\n",
    "display_df['Predicted_CHD_Label'] = results_df['Predicted_CHD'].map({0: 'No', 1: 'Yes'})\n",
    "\n",
    "print(\"\\nSample predictions (0 = No, 1 = Yes):\")\n",
    "print(display_df[['age', 'sysBP', 'glucose', 'tenYearCHD', 'Actual_CHD_Label',\n",
    "                 'Predicted_CHD', 'Predicted_CHD_Label', 'CHD_Probability']].head(10))\n",
    "\n",
    "print(\"\\nFinal predictions saved to 'final_predictions.csv'\")"
   ]
  }
 ],
 "metadata": {
  "kernelspec": {
   "display_name": "env40",
   "language": "python",
   "name": "python3"
  },
  "language_info": {
   "codemirror_mode": {
    "name": "ipython",
    "version": 3
   },
   "file_extension": ".py",
   "mimetype": "text/x-python",
   "name": "python",
   "nbconvert_exporter": "python",
   "pygments_lexer": "ipython3",
   "version": "3.10.16"
  }
 },
 "nbformat": 4,
 "nbformat_minor": 5
}
