{
 "cells": [
  {
   "cell_type": "markdown",
   "id": "e5b5843e",
   "metadata": {},
   "source": [
    "## 1. Data Exploration and Preprocessing"
   ]
  },
  {
   "cell_type": "markdown",
   "id": "48acf62e",
   "metadata": {},
   "source": [
    "### Data Exploration"
   ]
  },
  {
   "cell_type": "code",
   "execution_count": 6,
   "id": "0a921b08",
   "metadata": {},
   "outputs": [
    {
     "name": "stdout",
     "output_type": "stream",
     "text": [
      "First 5 rows of the dataset:\n",
      "   gender  age  educationLevel  currentSmoker  cigsPerDay  BPMeds  \\\n",
      "0       1   39             4.0              0         0.0     0.0   \n",
      "1       0   46             2.0              0         0.0     0.0   \n",
      "2       1   48             1.0              1        20.0     0.0   \n",
      "3       0   61             3.0              1        30.0     0.0   \n",
      "4       0   46             3.0              1        23.0     0.0   \n",
      "\n",
      "   prevalentStroke  prevalentHyp  diabetes  totChol  sysBP  diaBP    BMI  \\\n",
      "0                0             0         0    195.0  106.0   70.0  26.97   \n",
      "1                0             0         0    250.0  121.0   81.0  28.73   \n",
      "2                0             0         0    245.0  127.5   80.0  25.34   \n",
      "3                0             1         0    225.0  150.0   95.0  28.58   \n",
      "4                0             0         0    285.0  130.0   84.0  23.10   \n",
      "\n",
      "   heartRate  glucose  tenYearCHD  \n",
      "0       80.0     77.0           0  \n",
      "1       95.0     76.0           0  \n",
      "2       75.0     70.0           0  \n",
      "3       65.0    103.0           1  \n",
      "4       85.0     85.0           0  \n",
      "\n",
      "Dataset shape (rows, columns): (4238, 16)\n",
      "\n",
      "Missing values per column:\n",
      "gender               0\n",
      "age                  0\n",
      "educationLevel     105\n",
      "currentSmoker        0\n",
      "cigsPerDay          29\n",
      "BPMeds              53\n",
      "prevalentStroke      0\n",
      "prevalentHyp         0\n",
      "diabetes             0\n",
      "totChol             50\n",
      "sysBP                0\n",
      "diaBP                0\n",
      "BMI                 19\n",
      "heartRate            1\n",
      "glucose            388\n",
      "tenYearCHD           0\n",
      "dtype: int64\n",
      "\n",
      "Number of duplicate rows: 0\n",
      "tenYearCHD\n",
      "0    3594\n",
      "1     644\n",
      "Name: count, dtype: int64\n"
     ]
    }
   ],
   "source": [
    "import pandas as pd\n",
    "\n",
    "#Load the dataset\n",
    "df = pd.read_csv('heart_disease_prediction.csv')\n",
    "\n",
    "#Display the first few rows\n",
    "print(\"First 5 rows of the dataset:\")\n",
    "print(df.head())\n",
    "\n",
    "#Check the shape of the dataset\n",
    "print(\"\\nDataset shape (rows, columns):\", df.shape)\n",
    "\n",
    "#Check for missing values\n",
    "print(\"\\nMissing values per column:\")\n",
    "print(df.isnull().sum())\n",
    "\n",
    "#Check for duplicates\n",
    "print(\"\\nNumber of duplicate rows:\", df.duplicated().sum())\n",
    "print(df.iloc[:, -1].value_counts())\n"
   ]
  },
  {
   "cell_type": "markdown",
   "id": "a847e65d",
   "metadata": {},
   "source": [
    "### Data Preprocessing"
   ]
  },
  {
   "cell_type": "markdown",
   "id": "6847be16",
   "metadata": {},
   "source": [
    "## 2. Dataset Splitting and Model Training"
   ]
  },
  {
   "cell_type": "markdown",
   "id": "a93dac8f",
   "metadata": {},
   "source": [
    "## 3. Model Evaluation"
   ]
  },
  {
   "cell_type": "markdown",
   "id": "53a47a4a",
   "metadata": {},
   "source": [
    "## 4. Prediction on Unseen Data"
   ]
  }
 ],
 "metadata": {
  "kernelspec": {
   "display_name": "env40",
   "language": "python",
   "name": "python3"
  },
  "language_info": {
   "codemirror_mode": {
    "name": "ipython",
    "version": 3
   },
   "file_extension": ".py",
   "mimetype": "text/x-python",
   "name": "python",
   "nbconvert_exporter": "python",
   "pygments_lexer": "ipython3",
   "version": "3.10.16"
  }
 },
 "nbformat": 4,
 "nbformat_minor": 5
}
